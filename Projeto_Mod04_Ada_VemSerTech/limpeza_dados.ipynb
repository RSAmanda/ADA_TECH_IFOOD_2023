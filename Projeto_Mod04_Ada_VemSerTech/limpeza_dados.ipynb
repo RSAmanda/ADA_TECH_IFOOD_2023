{
 "cells": [
  {
   "cell_type": "code",
   "execution_count": 1,
   "metadata": {},
   "outputs": [],
   "source": [
    "import pandas as pd"
   ]
  },
  {
   "cell_type": "code",
   "execution_count": 2,
   "metadata": {},
   "outputs": [],
   "source": [
    "df_enem = pd.read_csv('MICRODADOS_ENEM_2022.csv', encoding = 'latin1', sep=';')"
   ]
  },
  {
   "cell_type": "code",
   "execution_count": 3,
   "metadata": {},
   "outputs": [
    {
     "data": {
      "text/plain": [
       "array([2022], dtype=int64)"
      ]
     },
     "execution_count": 3,
     "metadata": {},
     "output_type": "execute_result"
    }
   ],
   "source": [
    "df_enem['NU_ANO'].unique() # conferindo se só há dados de 2022"
   ]
  },
  {
   "cell_type": "code",
   "execution_count": 4,
   "metadata": {},
   "outputs": [],
   "source": [
    "df_enem = df_enem.drop(['NU_INSCRICAO','NU_ANO', 'TP_ENSINO', 'TP_NACIONALIDADE',\n",
    "                        'CO_MUNICIPIO_ESC', 'NO_MUNICIPIO_ESC','CO_UF_ESC', 'TP_DEPENDENCIA_ADM_ESC',\n",
    "                        'TP_LOCALIZACAO_ESC', 'TP_SIT_FUNC_ESC',\n",
    "                        'CO_MUNICIPIO_PROVA','NO_MUNICIPIO_PROVA','CO_UF_PROVA',\n",
    "                        'CO_PROVA_CN','CO_PROVA_CH','CO_PROVA_LC','CO_PROVA_MT',\n",
    "                        'TX_RESPOSTAS_CN','TX_RESPOSTAS_CH','TX_RESPOSTAS_LC',\n",
    "                        'TX_RESPOSTAS_MT','TX_GABARITO_CN','TX_GABARITO_CH',\n",
    "                        'TX_GABARITO_LC','TX_GABARITO_MT', 'TP_STATUS_REDACAO', \n",
    "                        'NU_NOTA_COMP1','NU_NOTA_COMP2','NU_NOTA_COMP3','NU_NOTA_COMP4','NU_NOTA_COMP5',\n",
    "                        'Q001','Q002','Q003','Q004','Q005','Q007','Q008',\n",
    "                        'Q009','Q010','Q011','Q012','Q013','Q014','Q015','Q016',\n",
    "                        'Q017','Q018','Q019','Q020','Q021','Q022','Q023','Q024',\n",
    "                        'Q025'], axis = 1)"
   ]
  },
  {
   "cell_type": "code",
   "execution_count": 5,
   "metadata": {},
   "outputs": [],
   "source": [
    "df_enem.to_csv('MICRODADOS_ENEM_2022_REDUZIDO.csv',index=False)"
   ]
  }
 ],
 "metadata": {
  "kernelspec": {
   "display_name": "Python 3",
   "language": "python",
   "name": "python3"
  },
  "language_info": {
   "codemirror_mode": {
    "name": "ipython",
    "version": 3
   },
   "file_extension": ".py",
   "mimetype": "text/x-python",
   "name": "python",
   "nbconvert_exporter": "python",
   "pygments_lexer": "ipython3",
   "version": "3.11.7"
  }
 },
 "nbformat": 4,
 "nbformat_minor": 2
}
